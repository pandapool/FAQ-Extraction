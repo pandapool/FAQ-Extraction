{
 "cells": [
  {
   "cell_type": "code",
   "execution_count": 1,
   "metadata": {},
   "outputs": [],
   "source": [
    "import pandas as pd\n",
    "import numpy as np\n",
    "import string"
   ]
  },
  {
   "cell_type": "code",
   "execution_count": 3,
   "metadata": {},
   "outputs": [],
   "source": [
    "df = pd.read_csv(\"c:/Users/hp/Desktop/topics_to_company_matching.csv\")\n",
    "df['question'] = df['question'].str.replace(r'[^\\w\\s]+', '')\n",
    "df.drop('Unnamed: 0',inplace=True,axis=1)"
   ]
  },
  {
   "cell_type": "code",
   "execution_count": 4,
   "metadata": {},
   "outputs": [
    {
     "data": {
      "text/html": [
       "<div>\n",
       "<style scoped>\n",
       "    .dataframe tbody tr th:only-of-type {\n",
       "        vertical-align: middle;\n",
       "    }\n",
       "\n",
       "    .dataframe tbody tr th {\n",
       "        vertical-align: top;\n",
       "    }\n",
       "\n",
       "    .dataframe thead th {\n",
       "        text-align: right;\n",
       "    }\n",
       "</style>\n",
       "<table border=\"1\" class=\"dataframe\">\n",
       "  <thead>\n",
       "    <tr style=\"text-align: right;\">\n",
       "      <th></th>\n",
       "      <th>company</th>\n",
       "      <th>question</th>\n",
       "      <th>topic</th>\n",
       "      <th>subject</th>\n",
       "      <th>Department</th>\n",
       "    </tr>\n",
       "  </thead>\n",
       "  <tbody>\n",
       "    <tr>\n",
       "      <th>0</th>\n",
       "      <td>3i Infotech</td>\n",
       "      <td>In a digital circuit which was to implement A ...</td>\n",
       "      <td>Combinational  and  sequential  circuits</td>\n",
       "      <td>Digital Logic</td>\n",
       "      <td>CSE/IT</td>\n",
       "    </tr>\n",
       "    <tr>\n",
       "      <th>1</th>\n",
       "      <td>3i Infotech</td>\n",
       "      <td>78 In a digital circuit which was to implement...</td>\n",
       "      <td>Combinational  and  sequential  circuits</td>\n",
       "      <td>Digital Logic</td>\n",
       "      <td>CSE/IT</td>\n",
       "    </tr>\n",
       "    <tr>\n",
       "      <th>2</th>\n",
       "      <td>3i Infotech</td>\n",
       "      <td>78 In a digital circuit which was to implement...</td>\n",
       "      <td>Combinational  and  sequential  circuits</td>\n",
       "      <td>Digital Logic</td>\n",
       "      <td>CSE/IT</td>\n",
       "    </tr>\n",
       "    <tr>\n",
       "      <th>3</th>\n",
       "      <td>3i Infotech</td>\n",
       "      <td>77 In a digital circuit which was to implement...</td>\n",
       "      <td>Combinational  and  sequential  circuits</td>\n",
       "      <td>Digital Logic</td>\n",
       "      <td>CSE/IT</td>\n",
       "    </tr>\n",
       "    <tr>\n",
       "      <th>4</th>\n",
       "      <td>3i Infotech</td>\n",
       "      <td>68 There was a circuit given using three nand ...</td>\n",
       "      <td>Combinational  and  sequential  circuits</td>\n",
       "      <td>Digital Logic</td>\n",
       "      <td>CSE/IT</td>\n",
       "    </tr>\n",
       "  </tbody>\n",
       "</table>\n",
       "</div>"
      ],
      "text/plain": [
       "       company                                           question  \\\n",
       "0  3i Infotech  In a digital circuit which was to implement A ...   \n",
       "1  3i Infotech  78 In a digital circuit which was to implement...   \n",
       "2  3i Infotech  78 In a digital circuit which was to implement...   \n",
       "3  3i Infotech  77 In a digital circuit which was to implement...   \n",
       "4  3i Infotech  68 There was a circuit given using three nand ...   \n",
       "\n",
       "                                      topic           subject Department  \n",
       "0  Combinational  and  sequential  circuits   Digital Logic       CSE/IT  \n",
       "1  Combinational  and  sequential  circuits   Digital Logic       CSE/IT  \n",
       "2  Combinational  and  sequential  circuits   Digital Logic       CSE/IT  \n",
       "3  Combinational  and  sequential  circuits   Digital Logic       CSE/IT  \n",
       "4  Combinational  and  sequential  circuits   Digital Logic       CSE/IT  "
      ]
     },
     "execution_count": 4,
     "metadata": {},
     "output_type": "execute_result"
    }
   ],
   "source": [
    "df.head()"
   ]
  },
  {
   "cell_type": "code",
   "execution_count": 5,
   "metadata": {},
   "outputs": [
    {
     "data": {
      "text/html": [
       "<div>\n",
       "<style scoped>\n",
       "    .dataframe tbody tr th:only-of-type {\n",
       "        vertical-align: middle;\n",
       "    }\n",
       "\n",
       "    .dataframe tbody tr th {\n",
       "        vertical-align: top;\n",
       "    }\n",
       "\n",
       "    .dataframe thead th {\n",
       "        text-align: right;\n",
       "    }\n",
       "</style>\n",
       "<table border=\"1\" class=\"dataframe\">\n",
       "  <thead>\n",
       "    <tr style=\"text-align: right;\">\n",
       "      <th></th>\n",
       "      <th>index</th>\n",
       "      <th>question</th>\n",
       "      <th>topic</th>\n",
       "    </tr>\n",
       "  </thead>\n",
       "  <tbody>\n",
       "    <tr>\n",
       "      <th>0</th>\n",
       "      <td>0</td>\n",
       "      <td>In a digital circuit which was to implement A ...</td>\n",
       "      <td>None</td>\n",
       "    </tr>\n",
       "    <tr>\n",
       "      <th>1</th>\n",
       "      <td>1</td>\n",
       "      <td>In quants section  questions are very easy to ...</td>\n",
       "      <td>None</td>\n",
       "    </tr>\n",
       "    <tr>\n",
       "      <th>2</th>\n",
       "      <td>2</td>\n",
       "      <td>When for a transmission line the open circuit ...</td>\n",
       "      <td>None</td>\n",
       "    </tr>\n",
       "    <tr>\n",
       "      <th>3</th>\n",
       "      <td>3</td>\n",
       "      <td>When a square wave is fed to an RC circuit  then</td>\n",
       "      <td>None</td>\n",
       "    </tr>\n",
       "    <tr>\n",
       "      <th>4</th>\n",
       "      <td>4</td>\n",
       "      <td>When a transistor is required to match a 100W ...</td>\n",
       "      <td>None</td>\n",
       "    </tr>\n",
       "  </tbody>\n",
       "</table>\n",
       "</div>"
      ],
      "text/plain": [
       "   index                                           question topic\n",
       "0      0  In a digital circuit which was to implement A ...  None\n",
       "1      1  In quants section  questions are very easy to ...  None\n",
       "2      2  When for a transmission line the open circuit ...  None\n",
       "3      3  When a square wave is fed to an RC circuit  then   None\n",
       "4      4  When a transistor is required to match a 100W ...  None"
      ]
     },
     "execution_count": 5,
     "metadata": {},
     "output_type": "execute_result"
    }
   ],
   "source": [
    "filtered = pd.read_csv(\"C:/Users/hp/Desktop/Filtered Questions - Using4words.csv\",header =-1)\n",
    "filtered.rename({0:'index',1:'question'},inplace=True,axis =1)\n",
    "filtered['question'] = filtered['question'].str.replace(r'[^\\w\\s]+', '')\n",
    "filtered['topic']=None\n",
    "filtered.head()"
   ]
  },
  {
   "cell_type": "code",
   "execution_count": 6,
   "metadata": {
    "scrolled": true
   },
   "outputs": [
    {
     "name": "stderr",
     "output_type": "stream",
     "text": [
      "C:\\ProgramData\\Anaconda2\\lib\\site-packages\\ipykernel_launcher.py:6: SettingWithCopyWarning: \n",
      "A value is trying to be set on a copy of a slice from a DataFrame\n",
      "\n",
      "See the caveats in the documentation: http://pandas.pydata.org/pandas-docs/stable/indexing.html#indexing-view-versus-copy\n",
      "  \n"
     ]
    }
   ],
   "source": [
    "x =0\n",
    "while x <len(filtered):\n",
    "    y=0\n",
    "    while y<len(df):\n",
    "        if filtered.question[x] == df.question[y]:\n",
    "            filtered.topic[x]=df.topic[y]\n",
    "            break\n",
    "        y=y+1\n",
    "    x=x+1"
   ]
  },
  {
   "cell_type": "code",
   "execution_count": 134,
   "metadata": {},
   "outputs": [
    {
     "data": {
      "text/html": [
       "<div>\n",
       "<style scoped>\n",
       "    .dataframe tbody tr th:only-of-type {\n",
       "        vertical-align: middle;\n",
       "    }\n",
       "\n",
       "    .dataframe tbody tr th {\n",
       "        vertical-align: top;\n",
       "    }\n",
       "\n",
       "    .dataframe thead th {\n",
       "        text-align: right;\n",
       "    }\n",
       "</style>\n",
       "<table border=\"1\" class=\"dataframe\">\n",
       "  <thead>\n",
       "    <tr style=\"text-align: right;\">\n",
       "      <th></th>\n",
       "      <th>index</th>\n",
       "      <th>question</th>\n",
       "      <th>topic</th>\n",
       "    </tr>\n",
       "  </thead>\n",
       "  <tbody>\n",
       "    <tr>\n",
       "      <th>0</th>\n",
       "      <td>0</td>\n",
       "      <td>In a digital circuit which was to implement A ...</td>\n",
       "      <td>Combinational  and  sequential  circuits</td>\n",
       "    </tr>\n",
       "    <tr>\n",
       "      <th>1</th>\n",
       "      <td>1</td>\n",
       "      <td>In quants section  questions are very easy to ...</td>\n",
       "      <td>Combinational  and  sequential  circuits</td>\n",
       "    </tr>\n",
       "    <tr>\n",
       "      <th>2</th>\n",
       "      <td>2</td>\n",
       "      <td>When for a transmission line the open circuit ...</td>\n",
       "      <td>Combinational  and  sequential  circuits</td>\n",
       "    </tr>\n",
       "    <tr>\n",
       "      <th>3</th>\n",
       "      <td>3</td>\n",
       "      <td>When a square wave is fed to an RC circuit  then</td>\n",
       "      <td>Combinational  and  sequential  circuits</td>\n",
       "    </tr>\n",
       "    <tr>\n",
       "      <th>4</th>\n",
       "      <td>4</td>\n",
       "      <td>When a transistor is required to match a 100W ...</td>\n",
       "      <td>Combinational  and  sequential  circuits</td>\n",
       "    </tr>\n",
       "  </tbody>\n",
       "</table>\n",
       "</div>"
      ],
      "text/plain": [
       "   index                                           question  \\\n",
       "0      0  In a digital circuit which was to implement A ...   \n",
       "1      1  In quants section  questions are very easy to ...   \n",
       "2      2  When for a transmission line the open circuit ...   \n",
       "3      3  When a square wave is fed to an RC circuit  then    \n",
       "4      4  When a transistor is required to match a 100W ...   \n",
       "\n",
       "                                      topic  \n",
       "0  Combinational  and  sequential  circuits  \n",
       "1  Combinational  and  sequential  circuits  \n",
       "2  Combinational  and  sequential  circuits  \n",
       "3  Combinational  and  sequential  circuits  \n",
       "4  Combinational  and  sequential  circuits  "
      ]
     },
     "execution_count": 134,
     "metadata": {},
     "output_type": "execute_result"
    }
   ],
   "source": [
    "filtered.head()"
   ]
  },
  {
   "cell_type": "code",
   "execution_count": 8,
   "metadata": {},
   "outputs": [],
   "source": [
    "filtered.to_csv(\"c:/Users/hp/Desktop/matched_topics.csv\")"
   ]
  },
  {
   "cell_type": "code",
   "execution_count": 9,
   "metadata": {},
   "outputs": [],
   "source": [
    "filtered = pd.read_csv(\"c:/Users/hp/Desktop/matched_topics.csv\")"
   ]
  },
  {
   "cell_type": "code",
   "execution_count": 15,
   "metadata": {},
   "outputs": [],
   "source": [
    "filtered.drop(\"Unnamed: 0\",axis=1,inplace=True)"
   ]
  },
  {
   "cell_type": "code",
   "execution_count": null,
   "metadata": {},
   "outputs": [],
   "source": [
    "topic_question ={}"
   ]
  },
  {
   "cell_type": "code",
   "execution_count": 80,
   "metadata": {},
   "outputs": [
    {
     "data": {
      "text/plain": [
       "63"
      ]
     },
     "execution_count": 80,
     "metadata": {},
     "output_type": "execute_result"
    }
   ],
   "source": [
    "l =filtered.topic.unique()\n",
    "len(l)"
   ]
  },
  {
   "cell_type": "code",
   "execution_count": 40,
   "metadata": {},
   "outputs": [],
   "source": [
    "topic_and_no_of_questions ={}\n",
    "for x in l:\n",
    "    topic_and_no_of_questions.update({x:len(filtered[filtered.topic == x])})"
   ]
  },
  {
   "cell_type": "code",
   "execution_count": 58,
   "metadata": {},
   "outputs": [],
   "source": [
    "nofques = pd.DataFrame(index=topic_and_no_of_questions.keys(),data=topic_and_no_of_questions.values(),columns=[\"Count\",])"
   ]
  },
  {
   "cell_type": "code",
   "execution_count": 66,
   "metadata": {},
   "outputs": [],
   "source": [
    "nofques.sort_index(inplace=True)"
   ]
  },
  {
   "cell_type": "code",
   "execution_count": 96,
   "metadata": {},
   "outputs": [
    {
     "name": "stdout",
     "output_type": "stream",
     "text": [
      "<class 'pandas.core.frame.DataFrame'>\n",
      "Index: 63 entries, Algorithm design techniques to trees\n",
      "Data columns (total 1 columns):\n",
      "Count    63 non-null int64\n",
      "dtypes: int64(1)\n",
      "memory usage: 1008.0+ bytes\n"
     ]
    }
   ],
   "source": [
    "nofques.info()"
   ]
  },
  {
   "cell_type": "code",
   "execution_count": 99,
   "metadata": {},
   "outputs": [
    {
     "data": {
      "text/html": [
       "<div>\n",
       "<style scoped>\n",
       "    .dataframe tbody tr th:only-of-type {\n",
       "        vertical-align: middle;\n",
       "    }\n",
       "\n",
       "    .dataframe tbody tr th {\n",
       "        vertical-align: top;\n",
       "    }\n",
       "\n",
       "    .dataframe thead th {\n",
       "        text-align: right;\n",
       "    }\n",
       "</style>\n",
       "<table border=\"1\" class=\"dataframe\">\n",
       "  <thead>\n",
       "    <tr style=\"text-align: right;\">\n",
       "      <th></th>\n",
       "      <th>Count</th>\n",
       "    </tr>\n",
       "  </thead>\n",
       "  <tbody>\n",
       "    <tr>\n",
       "      <th>count</th>\n",
       "      <td>63.000000</td>\n",
       "    </tr>\n",
       "    <tr>\n",
       "      <th>mean</th>\n",
       "      <td>38.444444</td>\n",
       "    </tr>\n",
       "    <tr>\n",
       "      <th>std</th>\n",
       "      <td>63.044986</td>\n",
       "    </tr>\n",
       "    <tr>\n",
       "      <th>min</th>\n",
       "      <td>1.000000</td>\n",
       "    </tr>\n",
       "    <tr>\n",
       "      <th>25%</th>\n",
       "      <td>6.000000</td>\n",
       "    </tr>\n",
       "    <tr>\n",
       "      <th>50%</th>\n",
       "      <td>14.000000</td>\n",
       "    </tr>\n",
       "    <tr>\n",
       "      <th>75%</th>\n",
       "      <td>44.500000</td>\n",
       "    </tr>\n",
       "    <tr>\n",
       "      <th>max</th>\n",
       "      <td>364.000000</td>\n",
       "    </tr>\n",
       "  </tbody>\n",
       "</table>\n",
       "</div>"
      ],
      "text/plain": [
       "            Count\n",
       "count   63.000000\n",
       "mean    38.444444\n",
       "std     63.044986\n",
       "min      1.000000\n",
       "25%      6.000000\n",
       "50%     14.000000\n",
       "75%     44.500000\n",
       "max    364.000000"
      ]
     },
     "execution_count": 99,
     "metadata": {},
     "output_type": "execute_result"
    }
   ],
   "source": [
    "nofques.describe()"
   ]
  },
  {
   "cell_type": "code",
   "execution_count": 103,
   "metadata": {},
   "outputs": [
    {
     "data": {
      "text/plain": [
       "28"
      ]
     },
     "execution_count": 103,
     "metadata": {},
     "output_type": "execute_result"
    }
   ],
   "source": [
    "len(nofques[nofques.Count < 10])   "
   ]
  },
  {
   "cell_type": "code",
   "execution_count": 109,
   "metadata": {},
   "outputs": [
    {
     "name": "stdout",
     "output_type": "stream",
     "text": [
      "                                                    Count\n",
      "CPU scheduling                                          2\n",
      "Ethernet                                                8\n",
      "File  organization                                      3\n",
      "HTTP                                                    1\n",
      "IPv6                                                    1\n",
      "Integrity constraints                                   3\n",
      "LAN  technologies                                       8\n",
      "Network  security                                       7\n",
      "Recursion                                               9\n",
      "Runtime environments                                    8\n",
      "Transactions  and concurrency control                   1\n",
      "Turing machines and undecidability                      2\n",
      "UDP and sockets                                         2\n",
      "authentication                                          2\n",
      "basics  of  public  key  and  private  key cryp...      7\n",
      "binary heaps                                            7\n",
      "cache                                                   3\n",
      "congestion control                                      4\n",
      "graphs                                                  7\n",
      "indexing                                                2\n",
      "link state                                              8\n",
      "minimum spanning trees                                  7\n",
      "parsing                                                 5\n",
      "pumping lemma                                           1\n",
      "routers and routing algorithms                          4\n",
      "shortest paths                                          9\n",
      "switching                                               3\n",
      "threads                                                 9\n"
     ]
    }
   ],
   "source": [
    "print nofques[nofques.Count<10].sort_index()"
   ]
  },
  {
   "cell_type": "code",
   "execution_count": 112,
   "metadata": {},
   "outputs": [
    {
     "name": "stdout",
     "output_type": "stream",
     "text": [
      "                                       Count\n",
      "CPU scheduling                             2\n",
      "File  organization                         3\n",
      "HTTP                                       1\n",
      "IPv6                                       1\n",
      "Integrity constraints                      3\n",
      "Transactions  and concurrency control      1\n",
      "Turing machines and undecidability         2\n",
      "UDP and sockets                            2\n",
      "authentication                             2\n",
      "cache                                      3\n",
      "congestion control                         4\n",
      "indexing                                   2\n",
      "pumping lemma                              1\n",
      "routers and routing algorithms             4\n",
      "switching                                  3\n"
     ]
    },
    {
     "data": {
      "text/plain": [
       "15"
      ]
     },
     "execution_count": 112,
     "metadata": {},
     "output_type": "execute_result"
    }
   ],
   "source": [
    "print nofques[nofques.Count<5].sort_index()\n",
    "len(nofques[nofques.Count<5])"
   ]
  },
  {
   "cell_type": "code",
   "execution_count": 128,
   "metadata": {},
   "outputs": [
    {
     "name": "stdout",
     "output_type": "stream",
     "text": [
      "pumping lemma\n"
     ]
    },
    {
     "data": {
      "text/plain": [
       "1"
      ]
     },
     "execution_count": 128,
     "metadata": {},
     "output_type": "execute_result"
    }
   ],
   "source": [
    "import operator\n",
    "print max(topic_and_no_of_questions.iteritems(), key=operator.itemgetter(1))[0]\n",
    "topic_and_no_of_questions[max(topic_and_no_of_questions.iteritems(), key=operator.itemgetter(1))[0]]"
   ]
  },
  {
   "cell_type": "code",
   "execution_count": 130,
   "metadata": {},
   "outputs": [
    {
     "data": {
      "text/plain": [
       "1215"
      ]
     },
     "execution_count": 130,
     "metadata": {},
     "output_type": "execute_result"
    }
   ],
   "source": [
    "len(filtered.question.unique())"
   ]
  },
  {
   "cell_type": "code",
   "execution_count": 131,
   "metadata": {},
   "outputs": [
    {
     "data": {
      "text/plain": [
       "2422"
      ]
     },
     "execution_count": 131,
     "metadata": {},
     "output_type": "execute_result"
    }
   ],
   "source": [
    "len(filtered)"
   ]
  },
  {
   "cell_type": "code",
   "execution_count": 155,
   "metadata": {},
   "outputs": [],
   "source": [
    "filtered.drop_duplicates(subset=\"question\",inplace =True)"
   ]
  },
  {
   "cell_type": "code",
   "execution_count": 156,
   "metadata": {},
   "outputs": [],
   "source": [
    "topic_and_no_of_questions2 ={}\n",
    "for x in l:\n",
    "    topic_and_no_of_questions2.update({x:len(filtered[filtered.topic == x])})"
   ]
  },
  {
   "cell_type": "code",
   "execution_count": 157,
   "metadata": {},
   "outputs": [],
   "source": [
    "nofques2 = pd.DataFrame(index=topic_and_no_of_questions2.keys(),data=topic_and_no_of_questions2.values(),columns=[\"Count\",])"
   ]
  },
  {
   "cell_type": "code",
   "execution_count": 158,
   "metadata": {},
   "outputs": [],
   "source": [
    "nofques2.sort_index(inplace=True)"
   ]
  },
  {
   "cell_type": "code",
   "execution_count": 159,
   "metadata": {},
   "outputs": [
    {
     "name": "stdout",
     "output_type": "stream",
     "text": [
      "<class 'pandas.core.frame.DataFrame'>\n",
      "Index: 63 entries, Algorithm design techniques to trees\n",
      "Data columns (total 1 columns):\n",
      "Count    63 non-null int64\n",
      "dtypes: int64(1)\n",
      "memory usage: 1008.0+ bytes\n"
     ]
    }
   ],
   "source": [
    "nofques2.info()"
   ]
  },
  {
   "cell_type": "code",
   "execution_count": 161,
   "metadata": {},
   "outputs": [
    {
     "data": {
      "text/html": [
       "<div>\n",
       "<style scoped>\n",
       "    .dataframe tbody tr th:only-of-type {\n",
       "        vertical-align: middle;\n",
       "    }\n",
       "\n",
       "    .dataframe tbody tr th {\n",
       "        vertical-align: top;\n",
       "    }\n",
       "\n",
       "    .dataframe thead th {\n",
       "        text-align: right;\n",
       "    }\n",
       "</style>\n",
       "<table border=\"1\" class=\"dataframe\">\n",
       "  <thead>\n",
       "    <tr style=\"text-align: right;\">\n",
       "      <th></th>\n",
       "      <th>Count</th>\n",
       "    </tr>\n",
       "  </thead>\n",
       "  <tbody>\n",
       "    <tr>\n",
       "      <th>count</th>\n",
       "      <td>63.000000</td>\n",
       "    </tr>\n",
       "    <tr>\n",
       "      <th>mean</th>\n",
       "      <td>19.285714</td>\n",
       "    </tr>\n",
       "    <tr>\n",
       "      <th>std</th>\n",
       "      <td>28.477172</td>\n",
       "    </tr>\n",
       "    <tr>\n",
       "      <th>min</th>\n",
       "      <td>1.000000</td>\n",
       "    </tr>\n",
       "    <tr>\n",
       "      <th>25%</th>\n",
       "      <td>3.000000</td>\n",
       "    </tr>\n",
       "    <tr>\n",
       "      <th>50%</th>\n",
       "      <td>8.000000</td>\n",
       "    </tr>\n",
       "    <tr>\n",
       "      <th>75%</th>\n",
       "      <td>23.000000</td>\n",
       "    </tr>\n",
       "    <tr>\n",
       "      <th>max</th>\n",
       "      <td>165.000000</td>\n",
       "    </tr>\n",
       "  </tbody>\n",
       "</table>\n",
       "</div>"
      ],
      "text/plain": [
       "            Count\n",
       "count   63.000000\n",
       "mean    19.285714\n",
       "std     28.477172\n",
       "min      1.000000\n",
       "25%      3.000000\n",
       "50%      8.000000\n",
       "75%     23.000000\n",
       "max    165.000000"
      ]
     },
     "execution_count": 161,
     "metadata": {},
     "output_type": "execute_result"
    }
   ],
   "source": [
    "nofques2.describe()"
   ]
  },
  {
   "cell_type": "code",
   "execution_count": 163,
   "metadata": {},
   "outputs": [
    {
     "data": {
      "text/plain": [
       "33"
      ]
     },
     "execution_count": 163,
     "metadata": {},
     "output_type": "execute_result"
    }
   ],
   "source": [
    "len(nofques2[nofques2.Count < 10])   "
   ]
  },
  {
   "cell_type": "code",
   "execution_count": 165,
   "metadata": {},
   "outputs": [
    {
     "data": {
      "text/plain": [
       "18"
      ]
     },
     "execution_count": 165,
     "metadata": {},
     "output_type": "execute_result"
    }
   ],
   "source": [
    "len(nofques2[nofques2.Count < 5])   "
   ]
  },
  {
   "cell_type": "code",
   "execution_count": 167,
   "metadata": {},
   "outputs": [
    {
     "name": "stdout",
     "output_type": "stream",
     "text": [
      "Asymptotic  worst  case  time  and  space  complexity\n"
     ]
    },
    {
     "data": {
      "text/plain": [
       "165"
      ]
     },
     "execution_count": 167,
     "metadata": {},
     "output_type": "execute_result"
    }
   ],
   "source": [
    "print max(topic_and_no_of_questions2.iteritems(), key=operator.itemgetter(1))[0]\n",
    "topic_and_no_of_questions2[max(topic_and_no_of_questions2.iteritems(), key=operator.itemgetter(1))[0]]"
   ]
  },
  {
   "cell_type": "code",
   "execution_count": null,
   "metadata": {},
   "outputs": [],
   "source": []
  },
  {
   "cell_type": "code",
   "execution_count": 70,
   "metadata": {},
   "outputs": [],
   "source": [
    "import matplotlib.pyplot as plt"
   ]
  },
  {
   "cell_type": "code",
   "execution_count": 168,
   "metadata": {},
   "outputs": [
    {
     "data": {
      "text/plain": [
       "(array([43.,  9.,  6.,  2.,  1.,  0.,  0.,  0.,  1.,  1.]),\n",
       " array([  1. ,  17.4,  33.8,  50.2,  66.6,  83. ,  99.4, 115.8, 132.2,\n",
       "        148.6, 165. ]),\n",
       " <a list of 10 Patch objects>)"
      ]
     },
     "execution_count": 168,
     "metadata": {},
     "output_type": "execute_result"
    },
    {
     "data": {
      "image/png": "[encoded data removed]",
      "text/plain": [
       "<Figure size 432x288 with 1 Axes>"
      ]
     },
     "metadata": {
      "needs_background": "light"
     },
     "output_type": "display_data"
    }
   ],
   "source": [
    "plt.hist(nofques2['Count'],rwidth=0.75,)"
   ]
  },
  {
   "cell_type": "code",
   "execution_count": 91,
   "metadata": {},
   "outputs": [],
   "source": [
    "test=filtered.copy()"
   ]
  },
  {
   "cell_type": "code",
   "execution_count": 94,
   "metadata": {},
   "outputs": [
    {
     "name": "stderr",
     "output_type": "stream",
     "text": [
      "C:\\ProgramData\\Anaconda2\\lib\\site-packages\\ipykernel_launcher.py:3: SettingWithCopyWarning: \n",
      "A value is trying to be set on a copy of a slice from a DataFrame\n",
      "\n",
      "See the caveats in the documentation: http://pandas.pydata.org/pandas-docs/stable/indexing.html#indexing-view-versus-copy\n",
      "  This is separate from the ipykernel package so we can avoid doing imports until\n"
     ]
    }
   ],
   "source": [
    "x = 0\n",
    "while x<len(test):\n",
    "    test['question'][x] = test['question'][x].split(' ')\n",
    "    x = x+1"
   ]
  },
  {
   "cell_type": "code",
   "execution_count": 92,
   "metadata": {},
   "outputs": [
    {
     "data": {
      "text/html": [
       "<div>\n",
       "<style scoped>\n",
       "    .dataframe tbody tr th:only-of-type {\n",
       "        vertical-align: middle;\n",
       "    }\n",
       "\n",
       "    .dataframe tbody tr th {\n",
       "        vertical-align: top;\n",
       "    }\n",
       "\n",
       "    .dataframe thead th {\n",
       "        text-align: right;\n",
       "    }\n",
       "</style>\n",
       "<table border=\"1\" class=\"dataframe\">\n",
       "  <thead>\n",
       "    <tr style=\"text-align: right;\">\n",
       "      <th></th>\n",
       "      <th>index</th>\n",
       "      <th>question</th>\n",
       "      <th>topic</th>\n",
       "    </tr>\n",
       "  </thead>\n",
       "  <tbody>\n",
       "    <tr>\n",
       "      <th>0</th>\n",
       "      <td>0</td>\n",
       "      <td>In a digital circuit which was to implement A ...</td>\n",
       "      <td>Combinational  and  sequential  circuits</td>\n",
       "    </tr>\n",
       "    <tr>\n",
       "      <th>1</th>\n",
       "      <td>1</td>\n",
       "      <td>In quants section  questions are very easy to ...</td>\n",
       "      <td>Combinational  and  sequential  circuits</td>\n",
       "    </tr>\n",
       "    <tr>\n",
       "      <th>2</th>\n",
       "      <td>2</td>\n",
       "      <td>When for a transmission line the open circuit ...</td>\n",
       "      <td>Combinational  and  sequential  circuits</td>\n",
       "    </tr>\n",
       "    <tr>\n",
       "      <th>3</th>\n",
       "      <td>3</td>\n",
       "      <td>When a square wave is fed to an RC circuit  then</td>\n",
       "      <td>Combinational  and  sequential  circuits</td>\n",
       "    </tr>\n",
       "    <tr>\n",
       "      <th>4</th>\n",
       "      <td>4</td>\n",
       "      <td>When a transistor is required to match a 100W ...</td>\n",
       "      <td>Combinational  and  sequential  circuits</td>\n",
       "    </tr>\n",
       "  </tbody>\n",
       "</table>\n",
       "</div>"
      ],
      "text/plain": [
       "   index                                           question  \\\n",
       "0      0  In a digital circuit which was to implement A ...   \n",
       "1      1  In quants section  questions are very easy to ...   \n",
       "2      2  When for a transmission line the open circuit ...   \n",
       "3      3  When a square wave is fed to an RC circuit  then    \n",
       "4      4  When a transistor is required to match a 100W ...   \n",
       "\n",
       "                                      topic  \n",
       "0  Combinational  and  sequential  circuits  \n",
       "1  Combinational  and  sequential  circuits  \n",
       "2  Combinational  and  sequential  circuits  \n",
       "3  Combinational  and  sequential  circuits  \n",
       "4  Combinational  and  sequential  circuits  "
      ]
     },
     "execution_count": 92,
     "metadata": {},
     "output_type": "execute_result"
    }
   ],
   "source": [
    "test.head()"
   ]
  },
  {
   "cell_type": "code",
   "execution_count": null,
   "metadata": {},
   "outputs": [],
   "source": []
  },
  {
   "cell_type": "code",
   "execution_count": 49,
   "metadata": {},
   "outputs": [],
   "source": [
    "x = 0\n",
    "tpc_dict ={}\n",
    "while x < len(df):\n",
    "    if df.topic[x] not in tpc_dict.keys():\n",
    "        tpc_dict.update({df.topic[x]:[]})\n",
    "    tpc_dict[df.topic[x]].append(df.subject[x])\n",
    "    tpc_dict[df.topic[x]]=list(set(tpc_dict[df.topic[x]]))\n",
    "    x = x+1\n",
    "for x,y in tpc_dict.items():\n",
    "    tpc_dict[x] = ','.join(y)"
   ]
  },
  {
   "cell_type": "code",
   "execution_count": 164,
   "metadata": {},
   "outputs": [
    {
     "data": {
      "text/plain": [
       "'tpc_dict'"
      ]
     },
     "execution_count": 164,
     "metadata": {},
     "output_type": "execute_result"
    }
   ],
   "source": [
    "'tpc_dict'"
   ]
  },
  {
   "cell_type": "code",
   "execution_count": 51,
   "metadata": {},
   "outputs": [],
   "source": [
    "x = 0\n",
    "sub_dict ={}\n",
    "while x < len(df):\n",
    "    if df.subject[x] not in sub_dict.keys():\n",
    "        sub_dict.update({df.subject[x]:[]})\n",
    "    sub_dict[df.subject[x]].append(df.Department[x])\n",
    "    sub_dict[df.subject[x]]=list(set(sub_dict[df.subject[x]]))\n",
    "    x = x+1\n",
    "for x,y in sub_dict.items():\n",
    "    sub_dict[x] = ','.join(y)"
   ]
  },
  {
   "cell_type": "code",
   "execution_count": 165,
   "metadata": {},
   "outputs": [
    {
     "data": {
      "text/plain": [
       "'sub_dict'"
      ]
     },
     "execution_count": 165,
     "metadata": {},
     "output_type": "execute_result"
    }
   ],
   "source": [
    "'sub_dict'"
   ]
  },
  {
   "cell_type": "code",
   "execution_count": 150,
   "metadata": {},
   "outputs": [],
   "source": [
    "sub_to_dept = pd.DataFrame.from_dict(sub_dict,orient='index').reset_index()"
   ]
  },
  {
   "cell_type": "code",
   "execution_count": 151,
   "metadata": {},
   "outputs": [],
   "source": [
    "sub_to_dept.rename({'index':'Sub',0:'Dept'},axis=1,inplace= True)"
   ]
  },
  {
   "cell_type": "code",
   "execution_count": 152,
   "metadata": {},
   "outputs": [
    {
     "data": {
      "text/html": [
       "<div>\n",
       "<style scoped>\n",
       "    .dataframe tbody tr th:only-of-type {\n",
       "        vertical-align: middle;\n",
       "    }\n",
       "\n",
       "    .dataframe tbody tr th {\n",
       "        vertical-align: top;\n",
       "    }\n",
       "\n",
       "    .dataframe thead th {\n",
       "        text-align: right;\n",
       "    }\n",
       "</style>\n",
       "<table border=\"1\" class=\"dataframe\">\n",
       "  <thead>\n",
       "    <tr style=\"text-align: right;\">\n",
       "      <th></th>\n",
       "      <th>Sub</th>\n",
       "      <th>Dept</th>\n",
       "    </tr>\n",
       "  </thead>\n",
       "  <tbody>\n",
       "    <tr>\n",
       "      <th>0</th>\n",
       "      <td>Digital Logic</td>\n",
       "      <td>CSE/IT</td>\n",
       "    </tr>\n",
       "    <tr>\n",
       "      <th>1</th>\n",
       "      <td>Algorithms</td>\n",
       "      <td>CSE/IT</td>\n",
       "    </tr>\n",
       "    <tr>\n",
       "      <th>2</th>\n",
       "      <td>Programming and Data Structures</td>\n",
       "      <td>CSE/IT</td>\n",
       "    </tr>\n",
       "    <tr>\n",
       "      <th>3</th>\n",
       "      <td>Operating System</td>\n",
       "      <td>CSE/IT</td>\n",
       "    </tr>\n",
       "    <tr>\n",
       "      <th>4</th>\n",
       "      <td>Computer Organization and Architecture</td>\n",
       "      <td>CSE/IT</td>\n",
       "    </tr>\n",
       "    <tr>\n",
       "      <th>5</th>\n",
       "      <td>Compiler Design</td>\n",
       "      <td>CSE/IT</td>\n",
       "    </tr>\n",
       "    <tr>\n",
       "      <th>6</th>\n",
       "      <td>Computer Networks</td>\n",
       "      <td>CSE/IT</td>\n",
       "    </tr>\n",
       "    <tr>\n",
       "      <th>7</th>\n",
       "      <td>Databases</td>\n",
       "      <td>CSE/IT</td>\n",
       "    </tr>\n",
       "    <tr>\n",
       "      <th>8</th>\n",
       "      <td>Theory of Computation</td>\n",
       "      <td>CSE/IT</td>\n",
       "    </tr>\n",
       "  </tbody>\n",
       "</table>\n",
       "</div>"
      ],
      "text/plain": [
       "                                        Sub    Dept\n",
       "0                           Digital Logic    CSE/IT\n",
       "1                              Algorithms    CSE/IT\n",
       "2         Programming and Data Structures    CSE/IT\n",
       "3                        Operating System    CSE/IT\n",
       "4   Computer Organization and Architecture   CSE/IT\n",
       "5                       Compiler Design      CSE/IT\n",
       "6                       Computer Networks    CSE/IT\n",
       "7                               Databases    CSE/IT\n",
       "8                   Theory of Computation    CSE/IT"
      ]
     },
     "execution_count": 152,
     "metadata": {},
     "output_type": "execute_result"
    }
   ],
   "source": [
    "sub_to_dept"
   ]
  },
  {
   "cell_type": "code",
   "execution_count": 153,
   "metadata": {},
   "outputs": [],
   "source": [
    "top_to_sub = pd.DataFrame.from_dict(tpc_dict,orient='index').reset_index()"
   ]
  },
  {
   "cell_type": "code",
   "execution_count": 154,
   "metadata": {},
   "outputs": [],
   "source": [
    "top_to_sub.rename({'index':'Topic',0:'Subject'},axis=1,inplace= True)"
   ]
  },
  {
   "cell_type": "code",
   "execution_count": 156,
   "metadata": {},
   "outputs": [
    {
     "data": {
      "text/html": [
       "<div>\n",
       "<style scoped>\n",
       "    .dataframe tbody tr th:only-of-type {\n",
       "        vertical-align: middle;\n",
       "    }\n",
       "\n",
       "    .dataframe tbody tr th {\n",
       "        vertical-align: top;\n",
       "    }\n",
       "\n",
       "    .dataframe thead th {\n",
       "        text-align: right;\n",
       "    }\n",
       "</style>\n",
       "<table border=\"1\" class=\"dataframe\">\n",
       "  <thead>\n",
       "    <tr style=\"text-align: right;\">\n",
       "      <th></th>\n",
       "      <th>Topic</th>\n",
       "      <th>Subject</th>\n",
       "    </tr>\n",
       "  </thead>\n",
       "  <tbody>\n",
       "    <tr>\n",
       "      <th>0</th>\n",
       "      <td>shortest paths</td>\n",
       "      <td>Algorithms</td>\n",
       "    </tr>\n",
       "    <tr>\n",
       "      <th>1</th>\n",
       "      <td>pumping lemma</td>\n",
       "      <td>Theory of Computation</td>\n",
       "    </tr>\n",
       "    <tr>\n",
       "      <th>2</th>\n",
       "      <td>routers and routing algorithms</td>\n",
       "      <td>Computer Networks</td>\n",
       "    </tr>\n",
       "    <tr>\n",
       "      <th>3</th>\n",
       "      <td>binary  search trees</td>\n",
       "      <td>Programming and Data Structures</td>\n",
       "    </tr>\n",
       "    <tr>\n",
       "      <th>4</th>\n",
       "      <td>Recursion</td>\n",
       "      <td>Programming and Data Structures</td>\n",
       "    </tr>\n",
       "  </tbody>\n",
       "</table>\n",
       "</div>"
      ],
      "text/plain": [
       "                            Topic                             Subject\n",
       "0                  shortest paths                        Algorithms  \n",
       "1                   pumping lemma             Theory of Computation  \n",
       "2  routers and routing algorithms                 Computer Networks  \n",
       "3            binary  search trees   Programming and Data Structures  \n",
       "4                       Recursion   Programming and Data Structures  "
      ]
     },
     "execution_count": 156,
     "metadata": {},
     "output_type": "execute_result"
    }
   ],
   "source": [
    "top_to_sub.head()"
   ]
  },
  {
   "cell_type": "code",
   "execution_count": 157,
   "metadata": {},
   "outputs": [],
   "source": [
    "top_to_sub['Dept'] = None"
   ]
  },
  {
   "cell_type": "code",
   "execution_count": null,
   "metadata": {},
   "outputs": [],
   "source": []
  },
  {
   "cell_type": "code",
   "execution_count": 143,
   "metadata": {},
   "outputs": [],
   "source": [
    "#need to work on it\n",
    "x = 0\n",
    "while x<len(top_to_sub):\n",
    "    top_to_sub['Dept'][x] = sub_to_dept.loc[sub_to_dept['Sub']==top_to_sub.Subject[x]]['Dept']\n",
    "    x = x+1\n",
    "    "
   ]
  },
  {
   "cell_type": "code",
   "execution_count": 158,
   "metadata": {},
   "outputs": [
    {
     "data": {
      "text/html": [
       "<div>\n",
       "<style scoped>\n",
       "    .dataframe tbody tr th:only-of-type {\n",
       "        vertical-align: middle;\n",
       "    }\n",
       "\n",
       "    .dataframe tbody tr th {\n",
       "        vertical-align: top;\n",
       "    }\n",
       "\n",
       "    .dataframe thead th {\n",
       "        text-align: right;\n",
       "    }\n",
       "</style>\n",
       "<table border=\"1\" class=\"dataframe\">\n",
       "  <thead>\n",
       "    <tr style=\"text-align: right;\">\n",
       "      <th></th>\n",
       "      <th>Topic</th>\n",
       "      <th>Subject</th>\n",
       "      <th>Dept</th>\n",
       "    </tr>\n",
       "  </thead>\n",
       "  <tbody>\n",
       "    <tr>\n",
       "      <th>0</th>\n",
       "      <td>shortest paths</td>\n",
       "      <td>Algorithms</td>\n",
       "      <td>None</td>\n",
       "    </tr>\n",
       "    <tr>\n",
       "      <th>1</th>\n",
       "      <td>pumping lemma</td>\n",
       "      <td>Theory of Computation</td>\n",
       "      <td>None</td>\n",
       "    </tr>\n",
       "    <tr>\n",
       "      <th>2</th>\n",
       "      <td>routers and routing algorithms</td>\n",
       "      <td>Computer Networks</td>\n",
       "      <td>None</td>\n",
       "    </tr>\n",
       "    <tr>\n",
       "      <th>3</th>\n",
       "      <td>binary  search trees</td>\n",
       "      <td>Programming and Data Structures</td>\n",
       "      <td>None</td>\n",
       "    </tr>\n",
       "    <tr>\n",
       "      <th>4</th>\n",
       "      <td>Recursion</td>\n",
       "      <td>Programming and Data Structures</td>\n",
       "      <td>None</td>\n",
       "    </tr>\n",
       "    <tr>\n",
       "      <th>5</th>\n",
       "      <td>data?path and control unit</td>\n",
       "      <td>Computer Organization and Architecture</td>\n",
       "      <td>None</td>\n",
       "    </tr>\n",
       "    <tr>\n",
       "      <th>6</th>\n",
       "      <td>Application layer protocols</td>\n",
       "      <td>Computer Networks</td>\n",
       "      <td>None</td>\n",
       "    </tr>\n",
       "    <tr>\n",
       "      <th>7</th>\n",
       "      <td>parsing</td>\n",
       "      <td>Compiler Design</td>\n",
       "      <td>None</td>\n",
       "    </tr>\n",
       "    <tr>\n",
       "      <th>8</th>\n",
       "      <td>Regular and contex-free languages</td>\n",
       "      <td>Theory of Computation</td>\n",
       "      <td>None</td>\n",
       "    </tr>\n",
       "    <tr>\n",
       "      <th>9</th>\n",
       "      <td>IPv4</td>\n",
       "      <td>Computer Networks</td>\n",
       "      <td>None</td>\n",
       "    </tr>\n",
       "    <tr>\n",
       "      <th>10</th>\n",
       "      <td>POP</td>\n",
       "      <td>Computer Networks</td>\n",
       "      <td>None</td>\n",
       "    </tr>\n",
       "    <tr>\n",
       "      <th>11</th>\n",
       "      <td>minimum spanning trees</td>\n",
       "      <td>Algorithms</td>\n",
       "      <td>None</td>\n",
       "    </tr>\n",
       "    <tr>\n",
       "      <th>12</th>\n",
       "      <td>relational algebra</td>\n",
       "      <td>Databases</td>\n",
       "      <td>None</td>\n",
       "    </tr>\n",
       "    <tr>\n",
       "      <th>13</th>\n",
       "      <td>basics  of  public  key  and  private  key cry...</td>\n",
       "      <td>Computer Networks</td>\n",
       "      <td>None</td>\n",
       "    </tr>\n",
       "    <tr>\n",
       "      <th>14</th>\n",
       "      <td>Transactions  and concurrency control</td>\n",
       "      <td>Databases</td>\n",
       "      <td>None</td>\n",
       "    </tr>\n",
       "    <tr>\n",
       "      <th>15</th>\n",
       "      <td>Deadlock</td>\n",
       "      <td>Operating System</td>\n",
       "      <td>None</td>\n",
       "    </tr>\n",
       "    <tr>\n",
       "      <th>16</th>\n",
       "      <td>Integrity constraints</td>\n",
       "      <td>Databases</td>\n",
       "      <td>None</td>\n",
       "    </tr>\n",
       "    <tr>\n",
       "      <th>17</th>\n",
       "      <td>main  memory  and  secondary  storage</td>\n",
       "      <td>Computer Organization and Architecture</td>\n",
       "      <td>None</td>\n",
       "    </tr>\n",
       "    <tr>\n",
       "      <th>18</th>\n",
       "      <td>Minimization</td>\n",
       "      <td>Digital Logic</td>\n",
       "      <td>None</td>\n",
       "    </tr>\n",
       "    <tr>\n",
       "      <th>19</th>\n",
       "      <td>Asymptotic  worst  case  time  and  space  com...</td>\n",
       "      <td>Algorithms</td>\n",
       "      <td>None</td>\n",
       "    </tr>\n",
       "    <tr>\n",
       "      <th>20</th>\n",
       "      <td>Memory management and virtual memory</td>\n",
       "      <td>Operating System</td>\n",
       "      <td>None</td>\n",
       "    </tr>\n",
       "    <tr>\n",
       "      <th>21</th>\n",
       "      <td>linked  lists</td>\n",
       "      <td>Programming and Data Structures</td>\n",
       "      <td>None</td>\n",
       "    </tr>\n",
       "    <tr>\n",
       "      <th>22</th>\n",
       "      <td>dynamic programming and divide?and?conquer</td>\n",
       "      <td>Algorithms</td>\n",
       "      <td>None</td>\n",
       "    </tr>\n",
       "    <tr>\n",
       "      <th>23</th>\n",
       "      <td>TCP</td>\n",
       "      <td>Computer Networks</td>\n",
       "      <td>None</td>\n",
       "    </tr>\n",
       "    <tr>\n",
       "      <th>24</th>\n",
       "      <td>Algorithm design techniques</td>\n",
       "      <td>Algorithms</td>\n",
       "      <td>None</td>\n",
       "    </tr>\n",
       "    <tr>\n",
       "      <th>25</th>\n",
       "      <td>Intermediate code generation</td>\n",
       "      <td>Compiler Design</td>\n",
       "      <td>None</td>\n",
       "    </tr>\n",
       "    <tr>\n",
       "      <th>26</th>\n",
       "      <td>authentication</td>\n",
       "      <td>Computer Networks</td>\n",
       "      <td>None</td>\n",
       "    </tr>\n",
       "    <tr>\n",
       "      <th>27</th>\n",
       "      <td>Combinational  and  sequential  circuits</td>\n",
       "      <td>Digital Logic</td>\n",
       "      <td>None</td>\n",
       "    </tr>\n",
       "    <tr>\n",
       "      <th>28</th>\n",
       "      <td>cache</td>\n",
       "      <td>Computer Organization and Architecture</td>\n",
       "      <td>None</td>\n",
       "    </tr>\n",
       "    <tr>\n",
       "      <th>29</th>\n",
       "      <td>Network  security</td>\n",
       "      <td>Computer Networks</td>\n",
       "      <td>None</td>\n",
       "    </tr>\n",
       "    <tr>\n",
       "      <th>...</th>\n",
       "      <td>...</td>\n",
       "      <td>...</td>\n",
       "      <td>...</td>\n",
       "    </tr>\n",
       "    <tr>\n",
       "      <th>47</th>\n",
       "      <td>File  organization</td>\n",
       "      <td>Databases</td>\n",
       "      <td>None</td>\n",
       "    </tr>\n",
       "    <tr>\n",
       "      <th>48</th>\n",
       "      <td>threads</td>\n",
       "      <td>Operating System</td>\n",
       "      <td>None</td>\n",
       "    </tr>\n",
       "    <tr>\n",
       "      <th>49</th>\n",
       "      <td>greedy</td>\n",
       "      <td>Algorithms</td>\n",
       "      <td>None</td>\n",
       "    </tr>\n",
       "    <tr>\n",
       "      <th>50</th>\n",
       "      <td>DNS</td>\n",
       "      <td>Computer Networks</td>\n",
       "      <td>None</td>\n",
       "    </tr>\n",
       "    <tr>\n",
       "      <th>51</th>\n",
       "      <td>fixed and floating point</td>\n",
       "      <td>Digital Logic</td>\n",
       "      <td>None</td>\n",
       "    </tr>\n",
       "    <tr>\n",
       "      <th>52</th>\n",
       "      <td>syntax-directed translation</td>\n",
       "      <td>Compiler Design</td>\n",
       "      <td>None</td>\n",
       "    </tr>\n",
       "    <tr>\n",
       "      <th>53</th>\n",
       "      <td>Ethernet</td>\n",
       "      <td>Computer Networks</td>\n",
       "      <td>None</td>\n",
       "    </tr>\n",
       "    <tr>\n",
       "      <th>54</th>\n",
       "      <td>Runtime environments</td>\n",
       "      <td>Compiler Design</td>\n",
       "      <td>None</td>\n",
       "    </tr>\n",
       "    <tr>\n",
       "      <th>55</th>\n",
       "      <td>Memory  hierarchy</td>\n",
       "      <td>Computer Organization and Architecture</td>\n",
       "      <td>None</td>\n",
       "    </tr>\n",
       "    <tr>\n",
       "      <th>56</th>\n",
       "      <td>hashing</td>\n",
       "      <td>Algorithms</td>\n",
       "      <td>None</td>\n",
       "    </tr>\n",
       "    <tr>\n",
       "      <th>57</th>\n",
       "      <td>sorting</td>\n",
       "      <td>Algorithms</td>\n",
       "      <td>None</td>\n",
       "    </tr>\n",
       "    <tr>\n",
       "      <th>58</th>\n",
       "      <td>Turing machines and undecidability</td>\n",
       "      <td>Theory of Computation</td>\n",
       "      <td>None</td>\n",
       "    </tr>\n",
       "    <tr>\n",
       "      <th>59</th>\n",
       "      <td>distance vector</td>\n",
       "      <td>Computer Networks</td>\n",
       "      <td>None</td>\n",
       "    </tr>\n",
       "    <tr>\n",
       "      <th>60</th>\n",
       "      <td>binary heaps</td>\n",
       "      <td>Programming and Data Structures</td>\n",
       "      <td>None</td>\n",
       "    </tr>\n",
       "    <tr>\n",
       "      <th>61</th>\n",
       "      <td>Basics  of  Wi-Fi</td>\n",
       "      <td>Computer Networks</td>\n",
       "      <td>None</td>\n",
       "    </tr>\n",
       "    <tr>\n",
       "      <th>62</th>\n",
       "      <td>queues</td>\n",
       "      <td>Programming and Data Structures</td>\n",
       "      <td>None</td>\n",
       "    </tr>\n",
       "    <tr>\n",
       "      <th>63</th>\n",
       "      <td>tuple calculus</td>\n",
       "      <td>Databases</td>\n",
       "      <td>None</td>\n",
       "    </tr>\n",
       "    <tr>\n",
       "      <th>64</th>\n",
       "      <td>B  and  B</td>\n",
       "      <td>Databases</td>\n",
       "      <td>None</td>\n",
       "    </tr>\n",
       "    <tr>\n",
       "      <th>65</th>\n",
       "      <td>switching</td>\n",
       "      <td>Computer Networks</td>\n",
       "      <td>None</td>\n",
       "    </tr>\n",
       "    <tr>\n",
       "      <th>66</th>\n",
       "      <td>SMTP</td>\n",
       "      <td>Computer Networks</td>\n",
       "      <td>None</td>\n",
       "    </tr>\n",
       "    <tr>\n",
       "      <th>67</th>\n",
       "      <td>graphs</td>\n",
       "      <td>Programming and Data Structures</td>\n",
       "      <td>None</td>\n",
       "    </tr>\n",
       "    <tr>\n",
       "      <th>68</th>\n",
       "      <td>File systems</td>\n",
       "      <td>Operating System</td>\n",
       "      <td>None</td>\n",
       "    </tr>\n",
       "    <tr>\n",
       "      <th>69</th>\n",
       "      <td>LAN  technologies</td>\n",
       "      <td>Computer Networks</td>\n",
       "      <td>None</td>\n",
       "    </tr>\n",
       "    <tr>\n",
       "      <th>70</th>\n",
       "      <td>SQL</td>\n",
       "      <td>Databases</td>\n",
       "      <td>None</td>\n",
       "    </tr>\n",
       "    <tr>\n",
       "      <th>71</th>\n",
       "      <td>O interface</td>\n",
       "      <td>Computer Organization and Architecture</td>\n",
       "      <td>None</td>\n",
       "    </tr>\n",
       "    <tr>\n",
       "      <th>72</th>\n",
       "      <td>ALU</td>\n",
       "      <td>Computer Organization and Architecture</td>\n",
       "      <td>None</td>\n",
       "    </tr>\n",
       "    <tr>\n",
       "      <th>73</th>\n",
       "      <td>inter?process  communication</td>\n",
       "      <td>Operating System</td>\n",
       "      <td>None</td>\n",
       "    </tr>\n",
       "    <tr>\n",
       "      <th>74</th>\n",
       "      <td>stacks</td>\n",
       "      <td>Programming and Data Structures</td>\n",
       "      <td>None</td>\n",
       "    </tr>\n",
       "    <tr>\n",
       "      <th>75</th>\n",
       "      <td>Flow  and  error  control  techniques</td>\n",
       "      <td>Computer Networks</td>\n",
       "      <td>None</td>\n",
       "    </tr>\n",
       "    <tr>\n",
       "      <th>76</th>\n",
       "      <td>Context-free  grammars  and  push-down automata</td>\n",
       "      <td>Theory of Computation</td>\n",
       "      <td>None</td>\n",
       "    </tr>\n",
       "  </tbody>\n",
       "</table>\n",
       "<p>77 rows × 3 columns</p>\n",
       "</div>"
      ],
      "text/plain": [
       "                                                Topic  \\\n",
       "0                                      shortest paths   \n",
       "1                                       pumping lemma   \n",
       "2                      routers and routing algorithms   \n",
       "3                                binary  search trees   \n",
       "4                                           Recursion   \n",
       "5                          data?path and control unit   \n",
       "6                         Application layer protocols   \n",
       "7                                             parsing   \n",
       "8                   Regular and contex-free languages   \n",
       "9                                                IPv4   \n",
       "10                                                POP   \n",
       "11                             minimum spanning trees   \n",
       "12                                 relational algebra   \n",
       "13  basics  of  public  key  and  private  key cry...   \n",
       "14              Transactions  and concurrency control   \n",
       "15                                           Deadlock   \n",
       "16                              Integrity constraints   \n",
       "17              main  memory  and  secondary  storage   \n",
       "18                                       Minimization   \n",
       "19  Asymptotic  worst  case  time  and  space  com...   \n",
       "20               Memory management and virtual memory   \n",
       "21                                      linked  lists   \n",
       "22         dynamic programming and divide?and?conquer   \n",
       "23                                                TCP   \n",
       "24                        Algorithm design techniques   \n",
       "25                       Intermediate code generation   \n",
       "26                                     authentication   \n",
       "27           Combinational  and  sequential  circuits   \n",
       "28                                              cache   \n",
       "29                                  Network  security   \n",
       "..                                                ...   \n",
       "47                                 File  organization   \n",
       "48                                            threads   \n",
       "49                                             greedy   \n",
       "50                                                DNS   \n",
       "51                           fixed and floating point   \n",
       "52                        syntax-directed translation   \n",
       "53                                           Ethernet   \n",
       "54                               Runtime environments   \n",
       "55                                  Memory  hierarchy   \n",
       "56                                            hashing   \n",
       "57                                            sorting   \n",
       "58                 Turing machines and undecidability   \n",
       "59                                    distance vector   \n",
       "60                                       binary heaps   \n",
       "61                                  Basics  of  Wi-Fi   \n",
       "62                                             queues   \n",
       "63                                     tuple calculus   \n",
       "64                                          B  and  B   \n",
       "65                                          switching   \n",
       "66                                               SMTP   \n",
       "67                                             graphs   \n",
       "68                                       File systems   \n",
       "69                                  LAN  technologies   \n",
       "70                                                SQL   \n",
       "71                                        O interface   \n",
       "72                                                ALU   \n",
       "73                       inter?process  communication   \n",
       "74                                             stacks   \n",
       "75              Flow  and  error  control  techniques   \n",
       "76    Context-free  grammars  and  push-down automata   \n",
       "\n",
       "                                     Subject  Dept  \n",
       "0                               Algorithms    None  \n",
       "1                    Theory of Computation    None  \n",
       "2                        Computer Networks    None  \n",
       "3          Programming and Data Structures    None  \n",
       "4          Programming and Data Structures    None  \n",
       "5    Computer Organization and Architecture   None  \n",
       "6                        Computer Networks    None  \n",
       "7                        Compiler Design      None  \n",
       "8                    Theory of Computation    None  \n",
       "9                        Computer Networks    None  \n",
       "10                       Computer Networks    None  \n",
       "11                              Algorithms    None  \n",
       "12                               Databases    None  \n",
       "13                       Computer Networks    None  \n",
       "14                               Databases    None  \n",
       "15                        Operating System    None  \n",
       "16                               Databases    None  \n",
       "17   Computer Organization and Architecture   None  \n",
       "18                           Digital Logic    None  \n",
       "19                              Algorithms    None  \n",
       "20                        Operating System    None  \n",
       "21         Programming and Data Structures    None  \n",
       "22                              Algorithms    None  \n",
       "23                       Computer Networks    None  \n",
       "24                              Algorithms    None  \n",
       "25                       Compiler Design      None  \n",
       "26                       Computer Networks    None  \n",
       "27                           Digital Logic    None  \n",
       "28   Computer Organization and Architecture   None  \n",
       "29                       Computer Networks    None  \n",
       "..                                       ...   ...  \n",
       "47                               Databases    None  \n",
       "48                        Operating System    None  \n",
       "49                              Algorithms    None  \n",
       "50                       Computer Networks    None  \n",
       "51                           Digital Logic    None  \n",
       "52                       Compiler Design      None  \n",
       "53                       Computer Networks    None  \n",
       "54                       Compiler Design      None  \n",
       "55   Computer Organization and Architecture   None  \n",
       "56                              Algorithms    None  \n",
       "57                              Algorithms    None  \n",
       "58                   Theory of Computation    None  \n",
       "59                       Computer Networks    None  \n",
       "60         Programming and Data Structures    None  \n",
       "61                       Computer Networks    None  \n",
       "62         Programming and Data Structures    None  \n",
       "63                               Databases    None  \n",
       "64                               Databases    None  \n",
       "65                       Computer Networks    None  \n",
       "66                       Computer Networks    None  \n",
       "67         Programming and Data Structures    None  \n",
       "68                        Operating System    None  \n",
       "69                       Computer Networks    None  \n",
       "70                               Databases    None  \n",
       "71   Computer Organization and Architecture   None  \n",
       "72   Computer Organization and Architecture   None  \n",
       "73                        Operating System    None  \n",
       "74         Programming and Data Structures    None  \n",
       "75                       Computer Networks    None  \n",
       "76                   Theory of Computation    None  \n",
       "\n",
       "[77 rows x 3 columns]"
      ]
     },
     "execution_count": 158,
     "metadata": {},
     "output_type": "execute_result"
    }
   ],
   "source": [
    "top_to_sub"
   ]
  },
  {
   "cell_type": "code",
   "execution_count": null,
   "metadata": {},
   "outputs": [],
   "source": []
  }
 ],
 "metadata": {
  "kernelspec": {
   "display_name": "Python 2",
   "language": "python",
   "name": "python2"
  },
  "language_info": {
   "codemirror_mode": {
    "name": "ipython",
    "version": 2
   },
   "file_extension": ".py",
   "mimetype": "text/x-python",
   "name": "python",
   "nbconvert_exporter": "python",
   "pygments_lexer": "ipython2",
   "version": "2.7.15"
  }
 },
 "nbformat": 4,
 "nbformat_minor": 2
}
