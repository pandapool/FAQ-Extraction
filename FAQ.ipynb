{
 "cells": [
  {
   "cell_type": "markdown",
   "metadata": {},
   "source": [
    "# FAQ EXTRACTION"
   ]
  },
  {
   "cell_type": "code",
   "execution_count": 1,
   "metadata": {},
   "outputs": [],
   "source": [
    "import pandas as pd\n",
    "import numpy as np\n",
    "from nltk.tokenize import wordpunct_tokenize\n",
    "from nltk import pos_tag\n",
    "import csv"
   ]
  },
  {
   "cell_type": "markdown",
   "metadata": {},
   "source": [
    "## DATA CLEANSING"
   ]
  },
  {
   "cell_type": "markdown",
   "metadata": {},
   "source": [
    "Reading CSVs"
   ]
  },
  {
   "cell_type": "code",
   "execution_count": 2,
   "metadata": {},
   "outputs": [],
   "source": [
    "topics = pd.read_csv(\"C:/Users/hp/Desktop/topic_dataset.csv\")\n",
    "question_bank = pd.read_csv(\"C:/Users/hp/Desktop/500_questions.csv\")"
   ]
  },
  {
   "cell_type": "markdown",
   "metadata": {},
   "source": [
    "Dropped unessential columns"
   ]
  },
  {
   "cell_type": "code",
   "execution_count": 3,
   "metadata": {
    "scrolled": true
   },
   "outputs": [],
   "source": [
    "topics.drop('Unnamed: 0', axis = 1, inplace =True)\n",
    "question_bank.drop('Unnamed: 0',axis = 1, inplace = True)"
   ]
  },
  {
   "cell_type": "markdown",
   "metadata": {},
   "source": [
    "Converting all the strings to lowercase"
   ]
  },
  {
   "cell_type": "code",
   "execution_count": 4,
   "metadata": {},
   "outputs": [],
   "source": [
    "x = 0\n",
    "while x< topics.shape[0]:\n",
    "    topics.iloc[x].topic = topics.iloc[x].topic.lower()\n",
    "    topics.iloc[x].subject = topics.iloc[x].subject.lower()\n",
    "    x = x+1\n",
    "x = 0\n",
    "while x<question_bank.shape[0]:\n",
    "    question_bank.iloc[x].question = question_bank.iloc[x].question.lower()\n",
    "    x = x+1"
   ]
  },
  {
   "cell_type": "code",
   "execution_count": 5,
   "metadata": {},
   "outputs": [
    {
     "data": {
      "text/html": [
       "<div>\n",
       "<style scoped>\n",
       "    .dataframe tbody tr th:only-of-type {\n",
       "        vertical-align: middle;\n",
       "    }\n",
       "\n",
       "    .dataframe tbody tr th {\n",
       "        vertical-align: top;\n",
       "    }\n",
       "\n",
       "    .dataframe thead th {\n",
       "        text-align: right;\n",
       "    }\n",
       "</style>\n",
       "<table border=\"1\" class=\"dataframe\">\n",
       "  <thead>\n",
       "    <tr style=\"text-align: right;\">\n",
       "      <th></th>\n",
       "      <th>topic</th>\n",
       "      <th>subject</th>\n",
       "    </tr>\n",
       "  </thead>\n",
       "  <tbody>\n",
       "    <tr>\n",
       "      <th>0</th>\n",
       "      <td>fcfs</td>\n",
       "      <td>operating system</td>\n",
       "    </tr>\n",
       "    <tr>\n",
       "      <th>1</th>\n",
       "      <td>dml</td>\n",
       "      <td>database management system</td>\n",
       "    </tr>\n",
       "    <tr>\n",
       "      <th>2</th>\n",
       "      <td>jdbc</td>\n",
       "      <td>object_oriented_programing</td>\n",
       "    </tr>\n",
       "    <tr>\n",
       "      <th>3</th>\n",
       "      <td>joints</td>\n",
       "      <td>database management system</td>\n",
       "    </tr>\n",
       "    <tr>\n",
       "      <th>4</th>\n",
       "      <td>buffering</td>\n",
       "      <td>operating system</td>\n",
       "    </tr>\n",
       "  </tbody>\n",
       "</table>\n",
       "</div>"
      ],
      "text/plain": [
       "       topic                     subject\n",
       "0       fcfs            operating system\n",
       "1        dml  database management system\n",
       "2       jdbc  object_oriented_programing\n",
       "3     joints  database management system\n",
       "4  buffering            operating system"
      ]
     },
     "execution_count": 5,
     "metadata": {},
     "output_type": "execute_result"
    }
   ],
   "source": [
    "topics.head()"
   ]
  },
  {
   "cell_type": "code",
   "execution_count": 6,
   "metadata": {},
   "outputs": [
    {
     "data": {
      "text/html": [
       "<div>\n",
       "<style scoped>\n",
       "    .dataframe tbody tr th:only-of-type {\n",
       "        vertical-align: middle;\n",
       "    }\n",
       "\n",
       "    .dataframe tbody tr th {\n",
       "        vertical-align: top;\n",
       "    }\n",
       "\n",
       "    .dataframe thead th {\n",
       "        text-align: right;\n",
       "    }\n",
       "</style>\n",
       "<table border=\"1\" class=\"dataframe\">\n",
       "  <thead>\n",
       "    <tr style=\"text-align: right;\">\n",
       "      <th></th>\n",
       "      <th>question</th>\n",
       "    </tr>\n",
       "  </thead>\n",
       "  <tbody>\n",
       "    <tr>\n",
       "      <th>0</th>\n",
       "      <td>(avg. of 42 ) : what is a sql view?</td>\n",
       "    </tr>\n",
       "    <tr>\n",
       "      <th>1</th>\n",
       "      <td>question involving primary key integrity const...</td>\n",
       "    </tr>\n",
       "    <tr>\n",
       "      <th>2</th>\n",
       "      <td>how secure are encrypted stored procedures  tr...</td>\n",
       "    </tr>\n",
       "    <tr>\n",
       "      <th>3</th>\n",
       "      <td>8. a candidate appearing for an examinatio �n ...</td>\n",
       "    </tr>\n",
       "    <tr>\n",
       "      <th>4</th>\n",
       "      <td>consider the following areas for tuning. the o...</td>\n",
       "    </tr>\n",
       "  </tbody>\n",
       "</table>\n",
       "</div>"
      ],
      "text/plain": [
       "                                            question\n",
       "0                (avg. of 42 ) : what is a sql view?\n",
       "1  question involving primary key integrity const...\n",
       "2  how secure are encrypted stored procedures  tr...\n",
       "3  8. a candidate appearing for an examinatio �n ...\n",
       "4  consider the following areas for tuning. the o..."
      ]
     },
     "execution_count": 6,
     "metadata": {},
     "output_type": "execute_result"
    }
   ],
   "source": [
    "question_bank.head()"
   ]
  },
  {
   "cell_type": "markdown",
   "metadata": {},
   "source": [
    "## DATA REFINING and WAREHOUSING"
   ]
  },
  {
   "cell_type": "markdown",
   "metadata": {},
   "source": [
    "Algorithms like RAKE, TF-IDF do not perform well on short sentences"
   ]
  },
  {
   "cell_type": "markdown",
   "metadata": {},
   "source": [
    "So instead of using these algorithms, metadata of the dataset was created"
   ]
  },
  {
   "cell_type": "markdown",
   "metadata": {},
   "source": [
    "Creating and filling new fields with empty lists to fill with metadata later"
   ]
  },
  {
   "cell_type": "code",
   "execution_count": 7,
   "metadata": {},
   "outputs": [],
   "source": [
    "question_bank['related_words']=[[] for k in question_bank.question]"
   ]
  },
  {
   "cell_type": "code",
   "execution_count": 8,
   "metadata": {},
   "outputs": [],
   "source": [
    "question_bank['tags']=[[] for k in question_bank.question]"
   ]
  },
  {
   "cell_type": "code",
   "execution_count": 9,
   "metadata": {},
   "outputs": [],
   "source": [
    "question_bank['subject']=[[] for k in question_bank.question]"
   ]
  },
  {
   "cell_type": "markdown",
   "metadata": {},
   "source": [
    "Finding important words in a question(usually nouns,verbs and adjectives)using wordpunct_tokenize and pos_tag"
   ]
  },
  {
   "cell_type": "code",
   "execution_count": 10,
   "metadata": {},
   "outputs": [
    {
     "data": {
      "text/html": [
       "<div>\n",
       "<style scoped>\n",
       "    .dataframe tbody tr th:only-of-type {\n",
       "        vertical-align: middle;\n",
       "    }\n",
       "\n",
       "    .dataframe tbody tr th {\n",
       "        vertical-align: top;\n",
       "    }\n",
       "\n",
       "    .dataframe thead th {\n",
       "        text-align: right;\n",
       "    }\n",
       "</style>\n",
       "<table border=\"1\" class=\"dataframe\">\n",
       "  <thead>\n",
       "    <tr style=\"text-align: right;\">\n",
       "      <th></th>\n",
       "      <th>question</th>\n",
       "      <th>related_words</th>\n",
       "      <th>tags</th>\n",
       "      <th>subject</th>\n",
       "    </tr>\n",
       "  </thead>\n",
       "  <tbody>\n",
       "    <tr>\n",
       "      <th>0</th>\n",
       "      <td>(avg. of 42 ) : what is a sql view?</td>\n",
       "      <td>[avg, view, sql]</td>\n",
       "      <td>[]</td>\n",
       "      <td>[]</td>\n",
       "    </tr>\n",
       "    <tr>\n",
       "      <th>1</th>\n",
       "      <td>question involving primary key integrity const...</td>\n",
       "      <td>[constraint, question, primary, etc, involving...</td>\n",
       "      <td>[]</td>\n",
       "      <td>[]</td>\n",
       "    </tr>\n",
       "    <tr>\n",
       "      <th>2</th>\n",
       "      <td>how secure are encrypted stored procedures  tr...</td>\n",
       "      <td>[secure, views, encrypted, triggers, stored, p...</td>\n",
       "      <td>[]</td>\n",
       "      <td>[]</td>\n",
       "    </tr>\n",
       "    <tr>\n",
       "      <th>3</th>\n",
       "      <td>8. a candidate appearing for an examinatio �n ...</td>\n",
       "      <td>[appearing, secure, candidate, failed, secured...</td>\n",
       "      <td>[]</td>\n",
       "      <td>[]</td>\n",
       "    </tr>\n",
       "    <tr>\n",
       "      <th>4</th>\n",
       "      <td>consider the following areas for tuning. the o...</td>\n",
       "      <td>[prevent, consider, reduce, order, maintained,...</td>\n",
       "      <td>[]</td>\n",
       "      <td>[]</td>\n",
       "    </tr>\n",
       "  </tbody>\n",
       "</table>\n",
       "</div>"
      ],
      "text/plain": [
       "                                            question  \\\n",
       "0                (avg. of 42 ) : what is a sql view?   \n",
       "1  question involving primary key integrity const...   \n",
       "2  how secure are encrypted stored procedures  tr...   \n",
       "3  8. a candidate appearing for an examinatio �n ...   \n",
       "4  consider the following areas for tuning. the o...   \n",
       "\n",
       "                                       related_words tags subject  \n",
       "0                                   [avg, view, sql]   []      []  \n",
       "1  [constraint, question, primary, etc, involving...   []      []  \n",
       "2  [secure, views, encrypted, triggers, stored, p...   []      []  \n",
       "3  [appearing, secure, candidate, failed, secured...   []      []  \n",
       "4  [prevent, consider, reduce, order, maintained,...   []      []  "
      ]
     },
     "execution_count": 10,
     "metadata": {},
     "output_type": "execute_result"
    }
   ],
   "source": [
    "x =0\n",
    "while x<question_bank.shape[0]:\n",
    "    words = wordpunct_tokenize(question_bank.question[x])\n",
    "    temp = pos_tag(words)\n",
    "    for abc in temp:\n",
    "        if abc[1] in ['JJ','VBN','NN','NNS','VB','VBD','VBG'] and len(abc[0])>2:\n",
    "            question_bank['related_words'][x].append(abc[0])\n",
    "    question_bank['related_words'][x] = list(set(question_bank['related_words'][x]))\n",
    "    x = x+1\n",
    "question_bank.head()"
   ]
  },
  {
   "cell_type": "markdown",
   "metadata": {},
   "source": [
    "Tagging each question with a particular topic by similar string matching"
   ]
  },
  {
   "cell_type": "code",
   "execution_count": 11,
   "metadata": {},
   "outputs": [
    {
     "data": {
      "text/html": [
       "<div>\n",
       "<style scoped>\n",
       "    .dataframe tbody tr th:only-of-type {\n",
       "        vertical-align: middle;\n",
       "    }\n",
       "\n",
       "    .dataframe tbody tr th {\n",
       "        vertical-align: top;\n",
       "    }\n",
       "\n",
       "    .dataframe thead th {\n",
       "        text-align: right;\n",
       "    }\n",
       "</style>\n",
       "<table border=\"1\" class=\"dataframe\">\n",
       "  <thead>\n",
       "    <tr style=\"text-align: right;\">\n",
       "      <th></th>\n",
       "      <th>question</th>\n",
       "      <th>related_words</th>\n",
       "      <th>tags</th>\n",
       "      <th>subject</th>\n",
       "    </tr>\n",
       "  </thead>\n",
       "  <tbody>\n",
       "    <tr>\n",
       "      <th>0</th>\n",
       "      <td>(avg. of 42 ) : what is a sql view?</td>\n",
       "      <td>[avg, view, sql]</td>\n",
       "      <td>[sql]</td>\n",
       "      <td>[]</td>\n",
       "    </tr>\n",
       "    <tr>\n",
       "      <th>1</th>\n",
       "      <td>question involving primary key integrity const...</td>\n",
       "      <td>[constraint, question, primary, etc, involving...</td>\n",
       "      <td>[keys]</td>\n",
       "      <td>[]</td>\n",
       "    </tr>\n",
       "    <tr>\n",
       "      <th>2</th>\n",
       "      <td>how secure are encrypted stored procedures  tr...</td>\n",
       "      <td>[secure, views, encrypted, triggers, stored, p...</td>\n",
       "      <td>[security]</td>\n",
       "      <td>[]</td>\n",
       "    </tr>\n",
       "    <tr>\n",
       "      <th>3</th>\n",
       "      <td>8. a candidate appearing for an examinatio �n ...</td>\n",
       "      <td>[appearing, secure, candidate, failed, secured...</td>\n",
       "      <td>[security]</td>\n",
       "      <td>[]</td>\n",
       "    </tr>\n",
       "    <tr>\n",
       "      <th>4</th>\n",
       "      <td>consider the following areas for tuning. the o...</td>\n",
       "      <td>[prevent, consider, reduce, order, maintained,...</td>\n",
       "      <td>[buffering, caching, sql]</td>\n",
       "      <td>[]</td>\n",
       "    </tr>\n",
       "  </tbody>\n",
       "</table>\n",
       "</div>"
      ],
      "text/plain": [
       "                                            question  \\\n",
       "0                (avg. of 42 ) : what is a sql view?   \n",
       "1  question involving primary key integrity const...   \n",
       "2  how secure are encrypted stored procedures  tr...   \n",
       "3  8. a candidate appearing for an examinatio �n ...   \n",
       "4  consider the following areas for tuning. the o...   \n",
       "\n",
       "                                       related_words  \\\n",
       "0                                   [avg, view, sql]   \n",
       "1  [constraint, question, primary, etc, involving...   \n",
       "2  [secure, views, encrypted, triggers, stored, p...   \n",
       "3  [appearing, secure, candidate, failed, secured...   \n",
       "4  [prevent, consider, reduce, order, maintained,...   \n",
       "\n",
       "                        tags subject  \n",
       "0                      [sql]      []  \n",
       "1                     [keys]      []  \n",
       "2                 [security]      []  \n",
       "3                 [security]      []  \n",
       "4  [buffering, caching, sql]      []  "
      ]
     },
     "execution_count": 11,
     "metadata": {},
     "output_type": "execute_result"
    }
   ],
   "source": [
    "x = 0\n",
    "while x<question_bank.shape[0]:\n",
    "    y = 0\n",
    "    while y<topics.shape[0]:\n",
    "        if(len(topics.topic[y])>=4):\n",
    "            z = topics.topic[y][:int(len(topics.topic[y])*0.7)]\n",
    "        else:\n",
    "            z = topics.topic[y]\n",
    "        if question_bank.question[x].find(z)!= -1:\n",
    "            question_bank.tags[x].append(topics.topic[y])\n",
    "        y = y+1\n",
    "    x = x+1\n",
    "question_bank.head()"
   ]
  },
  {
   "cell_type": "markdown",
   "metadata": {},
   "source": [
    "Finding subject(s) under which the question comes"
   ]
  },
  {
   "cell_type": "code",
   "execution_count": 12,
   "metadata": {},
   "outputs": [
    {
     "data": {
      "text/html": [
       "<div>\n",
       "<style scoped>\n",
       "    .dataframe tbody tr th:only-of-type {\n",
       "        vertical-align: middle;\n",
       "    }\n",
       "\n",
       "    .dataframe tbody tr th {\n",
       "        vertical-align: top;\n",
       "    }\n",
       "\n",
       "    .dataframe thead th {\n",
       "        text-align: right;\n",
       "    }\n",
       "</style>\n",
       "<table border=\"1\" class=\"dataframe\">\n",
       "  <thead>\n",
       "    <tr style=\"text-align: right;\">\n",
       "      <th></th>\n",
       "      <th>question</th>\n",
       "      <th>related_words</th>\n",
       "      <th>tags</th>\n",
       "      <th>subject</th>\n",
       "    </tr>\n",
       "  </thead>\n",
       "  <tbody>\n",
       "    <tr>\n",
       "      <th>0</th>\n",
       "      <td>(avg. of 42 ) : what is a sql view?</td>\n",
       "      <td>[avg, view, sql]</td>\n",
       "      <td>[sql]</td>\n",
       "      <td>[database management system]</td>\n",
       "    </tr>\n",
       "    <tr>\n",
       "      <th>1</th>\n",
       "      <td>question involving primary key integrity const...</td>\n",
       "      <td>[constraint, question, primary, etc, involving...</td>\n",
       "      <td>[keys]</td>\n",
       "      <td>[database management system]</td>\n",
       "    </tr>\n",
       "    <tr>\n",
       "      <th>2</th>\n",
       "      <td>how secure are encrypted stored procedures  tr...</td>\n",
       "      <td>[secure, views, encrypted, triggers, stored, p...</td>\n",
       "      <td>[security]</td>\n",
       "      <td>[operating system]</td>\n",
       "    </tr>\n",
       "    <tr>\n",
       "      <th>3</th>\n",
       "      <td>8. a candidate appearing for an examinatio �n ...</td>\n",
       "      <td>[appearing, secure, candidate, failed, secured...</td>\n",
       "      <td>[security]</td>\n",
       "      <td>[operating system]</td>\n",
       "    </tr>\n",
       "    <tr>\n",
       "      <th>4</th>\n",
       "      <td>consider the following areas for tuning. the o...</td>\n",
       "      <td>[prevent, consider, reduce, order, maintained,...</td>\n",
       "      <td>[buffering, caching, sql]</td>\n",
       "      <td>[operating system, database management system]</td>\n",
       "    </tr>\n",
       "  </tbody>\n",
       "</table>\n",
       "</div>"
      ],
      "text/plain": [
       "                                            question  \\\n",
       "0                (avg. of 42 ) : what is a sql view?   \n",
       "1  question involving primary key integrity const...   \n",
       "2  how secure are encrypted stored procedures  tr...   \n",
       "3  8. a candidate appearing for an examinatio �n ...   \n",
       "4  consider the following areas for tuning. the o...   \n",
       "\n",
       "                                       related_words  \\\n",
       "0                                   [avg, view, sql]   \n",
       "1  [constraint, question, primary, etc, involving...   \n",
       "2  [secure, views, encrypted, triggers, stored, p...   \n",
       "3  [appearing, secure, candidate, failed, secured...   \n",
       "4  [prevent, consider, reduce, order, maintained,...   \n",
       "\n",
       "                        tags                                         subject  \n",
       "0                      [sql]                    [database management system]  \n",
       "1                     [keys]                    [database management system]  \n",
       "2                 [security]                              [operating system]  \n",
       "3                 [security]                              [operating system]  \n",
       "4  [buffering, caching, sql]  [operating system, database management system]  "
      ]
     },
     "execution_count": 12,
     "metadata": {},
     "output_type": "execute_result"
    }
   ],
   "source": [
    "x = 0\n",
    "while x<question_bank.shape[0]:\n",
    "    y =0\n",
    "    while y<len(question_bank.tags[x]):\n",
    "        z = 0\n",
    "        while z< topics.shape[0]:\n",
    "            if question_bank.tags[x][y] == topics.topic[z]:\n",
    "                if topics.subject[z] not in question_bank.subject[x]:\n",
    "                    question_bank.subject[x].append(topics.subject[z])\n",
    "            z = z+1\n",
    "        y = y+1\n",
    "    x = x+1\n",
    "question_bank.head()"
   ]
  },
  {
   "cell_type": "markdown",
   "metadata": {},
   "source": [
    "## SEARCHING"
   ]
  },
  {
   "cell_type": "markdown",
   "metadata": {},
   "source": [
    "We take the input from user to search"
   ]
  },
  {
   "cell_type": "markdown",
   "metadata": {},
   "source": [
    "Refined searching using related words"
   ]
  },
  {
   "cell_type": "code",
   "execution_count": 13,
   "metadata": {},
   "outputs": [],
   "source": [
    "def relate_words_search(question_bank,res,search_word,additional,do_check):\n",
    "    x = 0\n",
    "    if len(search_word)>3:\n",
    "        s = search_word[:int(len(search_word)*0.85)]\n",
    "    else:\n",
    "        s = search_word\n",
    "    while x<question_bank.shape[0]:\n",
    "        check = -1\n",
    "        for t in question_bank.related_words[x]:\n",
    "            if t.find(s) != -1:\n",
    "                res.append(question_bank.question[x])\n",
    "                check = check +1\n",
    "        if check != -1 and do_check ==1:\n",
    "            for t in question_bank.related_words[x]:\n",
    "                additional.append(t)\n",
    "        x = x+1\n",
    "    return additional"
   ]
  },
  {
   "cell_type": "markdown",
   "metadata": {},
   "source": [
    "Function to extract subject to which the user input keyword is related"
   ]
  },
  {
   "cell_type": "code",
   "execution_count": 14,
   "metadata": {},
   "outputs": [],
   "source": [
    "def extract(question_bank,search_word):\n",
    "    x = 0\n",
    "    while x<question_bank.shape[0]:\n",
    "        if search_word in question_bank.related_words[x]:\n",
    "            return question_bank.subject[x]\n",
    "        x = x+1"
   ]
  },
  {
   "cell_type": "markdown",
   "metadata": {},
   "source": [
    "Searching for content related to the subject"
   ]
  },
  {
   "cell_type": "code",
   "execution_count": 15,
   "metadata": {},
   "outputs": [],
   "source": [
    "def subject_related_search(question_bank,res,search_word):\n",
    "    d =extract(question_bank,search_word)\n",
    "    x = 0\n",
    "    while x < question_bank.shape[0]:\n",
    "        for f in question_bank.subject[x]:\n",
    "            if f in d:\n",
    "                res.append(question_bank.question[x])\n",
    "        x=x+1"
   ]
  },
  {
   "cell_type": "markdown",
   "metadata": {},
   "source": [
    "Using shuffle method to not get the same output everytime"
   ]
  },
  {
   "cell_type": "code",
   "execution_count": 16,
   "metadata": {},
   "outputs": [],
   "source": [
    "from random import shuffle"
   ]
  },
  {
   "cell_type": "markdown",
   "metadata": {},
   "source": [
    "Tag searching"
   ]
  },
  {
   "cell_type": "code",
   "execution_count": 17,
   "metadata": {},
   "outputs": [],
   "source": [
    "def tag_search(question_bank,res):\n",
    "        x = 0\n",
    "        while x<question_bank.shape[0]:\n",
    "            if search_word in question_bank.tags[x]:\n",
    "                res.append(question_bank.question[x])\n",
    "            x = x+1\n",
    "        return res"
   ]
  },
  {
   "cell_type": "markdown",
   "metadata": {},
   "source": [
    "Main search{Relating to metadata and searching}\n",
    "AND output"
   ]
  },
  {
   "cell_type": "code",
   "execution_count": 23,
   "metadata": {
    "scrolled": true
   },
   "outputs": [],
   "source": [
    "e =0\n",
    "while e<topics.shape[0]:\n",
    "    search_word = topics.topic[e]\n",
    "    write_title(topics.subject[e],topics.topic[e])\n",
    "    res = []\n",
    "    additional=[]\n",
    "    res = tag_search(question_bank,res)\n",
    "    Next = []\n",
    "    if len(res)<10:\n",
    "        subject_related_search(question_bank,Next,search_word)\n",
    "    if len(res)+len(Next)<10:\n",
    "        additional=relate_words_search(question_bank,res,search_word,additional,1)\n",
    "        for o in additional:\n",
    "            x = relate_words_search(question_bank,Next,o,additional,0)\n",
    "    res =list(set(res))\n",
    "    for v in res:\n",
    "        write_q(v)\n",
    "    Next = list(set(Next)-set(res))\n",
    "    shuffle(Next)\n",
    "    v =0\n",
    "    while v<=10-len(res)+1 and v<len(Next):\n",
    "        write_q(Next[v])\n",
    "        v =v+1\n",
    "\n",
    "    e = e+1"
   ]
  },
  {
   "cell_type": "markdown",
   "metadata": {},
   "source": [
    "## CSV FILE HANDLING"
   ]
  },
  {
   "cell_type": "code",
   "execution_count": 22,
   "metadata": {},
   "outputs": [],
   "source": [
    "# OUTPUT WISE COLUMN NAMES\n",
    "with open('Test.csv','w') as csvfile:\n",
    "    fw = csv.writer(csvfile)\n",
    "    fw.writerow(['SUBJECT','TOPIC','QUESTION'])"
   ]
  },
  {
   "cell_type": "code",
   "execution_count": 19,
   "metadata": {},
   "outputs": [],
   "source": [
    "def write_title(Subject,Topic):\n",
    "    with open('Test.csv','a') as csvfile:\n",
    "        fw = csv.writer(csvfile)\n",
    "        fw.writerow([Subject,Topic,''])"
   ]
  },
  {
   "cell_type": "code",
   "execution_count": 20,
   "metadata": {},
   "outputs": [],
   "source": [
    "def write_q(question):\n",
    "    with open('Test.csv','a') as csvfile:\n",
    "        fw = csv.writer(csvfile)\n",
    "        fw.writerow(['','',question])"
   ]
  }
 ],
 "metadata": {
  "kernelspec": {
   "display_name": "Python 2",
   "language": "python",
   "name": "python2"
  },
  "language_info": {
   "codemirror_mode": {
    "name": "ipython",
    "version": 2
   },
   "file_extension": ".py",
   "mimetype": "text/x-python",
   "name": "python",
   "nbconvert_exporter": "python",
   "pygments_lexer": "ipython2",
   "version": "2.7.15"
  }
 },
 "nbformat": 4,
 "nbformat_minor": 2
}
